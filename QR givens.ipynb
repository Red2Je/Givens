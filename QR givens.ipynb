{
 "cells": [
  {
   "cell_type": "code",
   "execution_count": 1,
   "metadata": {},
   "outputs": [],
   "source": [
    "using LinearAlgebra\n",
    "using Random\n",
    "using Distributions\n",
    "using Plots"
   ]
  },
  {
   "cell_type": "code",
   "execution_count": 16,
   "metadata": {
    "scrolled": true
   },
   "outputs": [
    {
     "data": {
      "text/plain": [
       "10×10 Matrix{Float64}:\n",
       " -7.21619   16.2968     0.0       …   0.0       0.0       0.0\n",
       " 16.2968     2.85056  -17.5671        0.0       0.0       0.0\n",
       "  0.0      -17.5671   -12.7417        0.0       0.0       0.0\n",
       "  0.0        0.0       -0.990639      0.0       0.0       0.0\n",
       "  0.0        0.0        0.0           0.0       0.0       0.0\n",
       "  0.0        0.0        0.0       …   0.0       0.0       0.0\n",
       "  0.0        0.0        0.0          19.6992    0.0       0.0\n",
       "  0.0        0.0        0.0          -4.18474  -4.30629   0.0\n",
       "  0.0        0.0        0.0          -4.30629   2.16778   7.50141\n",
       "  0.0        0.0        0.0           0.0       7.50141  14.8183"
      ]
     },
     "execution_count": 16,
     "metadata": {},
     "output_type": "execute_result"
    }
   ],
   "source": [
    "#A = [3 4 0 0;4 65 8 0; 0 8 84 7; 0 0 7 3]\n",
    "n = 10\n",
    "d = rand(Uniform(-20,20),10)\n",
    "sd = rand(Uniform(-20,20),10)\n",
    "A = SymTridiagonal(d,sd)\n",
    "A = convert(Array,A)"
   ]
  },
  {
   "cell_type": "code",
   "execution_count": 17,
   "metadata": {},
   "outputs": [
    {
     "data": {
      "text/plain": [
       "10-element Vector{Float64}:\n",
       " -32.81391902974915\n",
       " -28.77771807845872\n",
       " -13.75639518680804\n",
       " -11.173595411114936\n",
       "  -9.359322475843529\n",
       "  -0.9800503754880567\n",
       "   7.991310021061761\n",
       "  18.33830706978845\n",
       "  21.260935907019753\n",
       "  27.866902899849617"
      ]
     },
     "execution_count": 17,
     "metadata": {},
     "output_type": "execute_result"
    }
   ],
   "source": [
    "eigvals(A)"
   ]
  },
  {
   "cell_type": "code",
   "execution_count": 4,
   "metadata": {},
   "outputs": [
    {
     "data": {
      "text/plain": [
       "givensTri (generic function with 1 method)"
      ]
     },
     "execution_count": 4,
     "metadata": {},
     "output_type": "execute_result"
    }
   ],
   "source": [
    "function givensTri(A)\n",
    "    line,column = size(A)\n",
    "    output = deepcopy(A)\n",
    "    Q = I\n",
    "    for i = 2:line\n",
    "        γ = output[i-1,i-1]/(sqrt(output[i,i-1]^2+output[i-1,i-1]^2))\n",
    "        σ = output[i,i-1]/(sqrt(output[i,i-1]^2+output[i-1,i-1]^2))\n",
    "        G = Matrix(1.0*I,size(A))\n",
    "        G[i-1,i-1] = γ\n",
    "        G[i-1,i] = σ\n",
    "        G[i,i-1] = -σ\n",
    "        G[i,i] = γ\n",
    "        Q *= G'\n",
    "        output = G * output\n",
    "        output = zeroTresh(output)\n",
    "    end\n",
    "    return(Q,output)\n",
    "end\n"
   ]
  },
  {
   "cell_type": "code",
   "execution_count": 5,
   "metadata": {},
   "outputs": [
    {
     "data": {
      "text/plain": [
       "zeroTresh (generic function with 1 method)"
      ]
     },
     "execution_count": 5,
     "metadata": {},
     "output_type": "execute_result"
    }
   ],
   "source": [
    "function zeroTresh(A)\n",
    "    line,column = size(A)\n",
    "    output = deepcopy(A)\n",
    "    tol = 1e-12\n",
    "    for i = 1: line\n",
    "        for j = 1:column\n",
    "            #A[i,j] = round(A[i,j], digits=3)\n",
    "            if(-tol < A[i,j] < tol)\n",
    "                output[i,j] = 0\n",
    "            end\n",
    "        end\n",
    "    end\n",
    "    return(output)\n",
    "end"
   ]
  },
  {
   "cell_type": "code",
   "execution_count": 6,
   "metadata": {},
   "outputs": [
    {
     "data": {
      "text/plain": [
       "qrHouseholder (generic function with 1 method)"
      ]
     },
     "execution_count": 6,
     "metadata": {},
     "output_type": "execute_result"
    }
   ],
   "source": [
    "function qrHouseholder(X)\n",
    "    Q = I\n",
    "    Qt = I\n",
    "    u = X[:,1]-norm(X[:,1])*basisVector(size(X,1),1)\n",
    "    v = u/norm(u)\n",
    "    Qi = I-2*v*v'\n",
    "    Qt = Qi*Qt\n",
    "    Q*=Qi'\n",
    "    for i = 2 : size(X,1)-1\n",
    "        Qi = 1.0*Matrix(I,size(X))\n",
    "        s = size(X,1)\n",
    "        u = (Qt*X)[i:s,i] - norm((Qt*X)[i:s,i])*basisVector(size(X,1)-i+1,1)\n",
    "        v = u/norm(u)\n",
    "        Qip = I - 2*v*v'\n",
    "        Qi[i:s,i:s] = Qip\n",
    "        Qt = Qi*Qt\n",
    "        Q *= Qi'\n",
    "    end\n",
    "    \n",
    "    return Q,Qt*X\n",
    "end\n",
    "    "
   ]
  },
  {
   "cell_type": "code",
   "execution_count": 21,
   "metadata": {},
   "outputs": [
    {
     "data": {
      "text/plain": [
       "qrConv (generic function with 1 method)"
      ]
     },
     "execution_count": 21,
     "metadata": {},
     "output_type": "execute_result"
    }
   ],
   "source": [
    "function checkConv(C)\n",
    "    tol = 1e-5\n",
    "    converge = false\n",
    "    convergence = tr(C) - size(C,1)\n",
    "    if( -tol <= convergence <= tol)\n",
    "        converge = true\n",
    "    end\n",
    "    return converge\n",
    "end\n",
    "function qrConvTri(h)\n",
    "    maxiter = 10000\n",
    "    Q = I\n",
    "    q1,r1 = givensTri(h)\n",
    "    A1 = r1*q1\n",
    "    Q *= q1\n",
    "    q2,r2 = givensTri(A1)\n",
    "    A2 = zeroTresh(r2*q2)\n",
    "    C = A2/A1\n",
    "    Q *= q2\n",
    "    i = 0\n",
    "    while(!checkConv(C) && i < maxiter)\n",
    "        i += 1\n",
    "        A1 = deepcopy(A2)\n",
    "        q2,r2 = givensTri(A2)\n",
    "        Q *= q2\n",
    "        A2 = zeroTresh(r2*q2)\n",
    "        C = A2/A1\n",
    "    end\n",
    "    r2 = q2*r2\n",
    "    println(\"qrConvTri converged after \",i,\" iterations\")\n",
    "    return Q, r2\n",
    "end\n",
    "function qrConv(h)\n",
    "    maxiter = 10000\n",
    "    Q = I\n",
    "    q1,r1 = qrHouseholder(h)\n",
    "    A1 = r1*q1\n",
    "    Q *= q1\n",
    "    q2,r2 = qrHouseholder(A1)\n",
    "    A2 = zeroTresh(r2*q2)\n",
    "    C = A2/A1\n",
    "    Q *= q2\n",
    "    i = 0\n",
    "    while(!checkConv(C) && i<maxiter)\n",
    "        i += 1\n",
    "        A1 = deepcopy(A2)\n",
    "        q2,r2 = qrHouseholder(A2)\n",
    "        Q *= q2\n",
    "        A2 = zeroTresh(r2*q2)\n",
    "        C = A2/A1\n",
    "    end\n",
    "    if(i == maxiter)\n",
    "        @warn \"Convergence hasnt been reached\"\n",
    "    else\n",
    "        println(\"qrConv converged after \",i,\" iterations\")\n",
    "    end\n",
    "    r2 = q2*r2\n",
    "    return Q,r2\n",
    "end"
   ]
  },
  {
   "cell_type": "code",
   "execution_count": 8,
   "metadata": {},
   "outputs": [
    {
     "data": {
      "text/plain": [
       "basisVector (generic function with 1 method)"
      ]
     },
     "execution_count": 8,
     "metadata": {},
     "output_type": "execute_result"
    }
   ],
   "source": [
    "function basisVector(n,i)\n",
    "    e = zeros(n)\n",
    "    e[i] = 1\n",
    "    return e\n",
    "end"
   ]
  },
  {
   "cell_type": "code",
   "execution_count": 9,
   "metadata": {},
   "outputs": [
    {
     "data": {
      "text/plain": [
       "4×4 Matrix{Int64}:\n",
       " 1  0  0  0\n",
       " 0  4  5  0\n",
       " 0  6  7  0\n",
       " 0  0  0  1"
      ]
     },
     "execution_count": 9,
     "metadata": {},
     "output_type": "execute_result"
    }
   ],
   "source": [
    "T = 1*Matrix(I,4,4)\n",
    "T[2:3,2:3] = [4 5; 6 7]\n",
    "T"
   ]
  },
  {
   "cell_type": "code",
   "execution_count": 18,
   "metadata": {
    "scrolled": true
   },
   "outputs": [
    {
     "name": "stdout",
     "output_type": "stream",
     "text": [
      "qrConvTri converged after 53 iterations\n",
      "0.0046221\n",
      "qrConv converged after 53 iterations\n",
      "0.0060533\n"
     ]
    }
   ],
   "source": [
    "println(@elapsed Qtri,Rtri = qrConvTri(A))\n",
    "println(@elapsed Q,R = qrConv(A))"
   ]
  },
  {
   "cell_type": "code",
   "execution_count": 19,
   "metadata": {
    "scrolled": true
   },
   "outputs": [
    {
     "data": {
      "text/plain": [
       "10-element Vector{Float64}:\n",
       " -32.81391902974915\n",
       " -28.77771807845872\n",
       " -13.75639518680804\n",
       " -11.173595411114936\n",
       "  -9.359322475843529\n",
       "  -0.9800503754880567\n",
       "   7.991310021061761\n",
       "  18.33830706978845\n",
       "  21.260935907019753\n",
       "  27.866902899849617"
      ]
     },
     "execution_count": 19,
     "metadata": {},
     "output_type": "execute_result"
    }
   ],
   "source": [
    "eigvals(A)"
   ]
  },
  {
   "cell_type": "code",
   "execution_count": 20,
   "metadata": {
    "scrolled": true
   },
   "outputs": [
    {
     "data": {
      "text/plain": [
       "10×10 Matrix{Float64}:\n",
       " -28.7933      0.250581    0.0        …   0.0           0.0          0.0\n",
       "   0.250581  -32.7983     -0.0200957      0.0           0.0          0.0\n",
       "   0.0        -0.0200957  27.8549         0.0           0.0          0.0\n",
       "   0.0         0.0        -0.281463       0.0           0.0          0.0\n",
       "   0.0         0.0         0.0            0.0           0.0          0.0\n",
       "   0.0         0.0         0.0        …   0.0           0.0          0.0\n",
       "   0.0         0.0         0.0            0.000524226   0.0          0.0\n",
       "   0.0         0.0         0.0           -9.35932      -3.19754e-6   0.0\n",
       "   0.0         0.0         0.0           -3.19754e-6    7.99131      0.0\n",
       "   0.0         0.0         0.0            0.0           0.0         -0.98005"
      ]
     },
     "execution_count": 20,
     "metadata": {},
     "output_type": "execute_result"
    }
   ],
   "source": [
    "zeroTresh(Rtri)"
   ]
  },
  {
   "cell_type": "code",
   "execution_count": 26,
   "metadata": {
    "scrolled": true
   },
   "outputs": [
    {
     "name": "stdout",
     "output_type": "stream",
     "text": [
      "iter = 1\n",
      "qrConvTri converged after 15 iterations\n",
      "qrConv converged after 15 iterations\n",
      "iter = 2\n",
      "qrConvTri converged after 11 iterations\n",
      "qrConv converged after 14 iterations\n",
      "iter = 3\n",
      "qrConvTri converged after 58 iterations\n",
      "qrConv converged after 58 iterations\n",
      "iter = 4\n",
      "qrConvTri converged after 154 iterations\n",
      "qrConv converged after 54 iterations\n",
      "iter = 5\n",
      "qrConvTri converged after 24 iterations\n",
      "qrConv converged after 24 iterations\n",
      "iter = 6\n",
      "qrConvTri converged after 83 iterations\n",
      "qrConv converged after 83 iterations\n",
      "iter = 7\n",
      "qrConvTri converged after 87 iterations\n",
      "qrConv converged after 87 iterations\n",
      "iter = 8\n",
      "qrConvTri converged after 126 iterations\n",
      "qrConv converged after 126 iterations\n",
      "iter = 9\n",
      "qrConvTri converged after 262 iterations\n",
      "qrConv converged after 262 iterations\n",
      "iter = 10\n",
      "qrConvTri converged after 54 iterations\n",
      "qrConv converged after 54 iterations\n",
      "iter = 11\n",
      "qrConvTri converged after 51 iterations\n",
      "qrConv converged after 51 iterations\n",
      "iter = 12\n",
      "qrConvTri converged after 185 iterations\n",
      "qrConv converged after 176 iterations\n",
      "iter = 13\n",
      "qrConvTri converged after 88 iterations\n",
      "qrConv converged after 88 iterations\n",
      "iter = 14\n",
      "qrConvTri converged after 360 iterations\n",
      "qrConv converged after 360 iterations\n",
      "iter = 15\n",
      "qrConvTri converged after 210 iterations\n",
      "qrConv converged after 210 iterations\n",
      "iter = 16\n",
      "qrConvTri converged after 305 iterations\n",
      "qrConv converged after 305 iterations\n",
      "iter = 17\n",
      "qrConvTri converged after 152 iterations\n",
      "qrConv converged after 152 iterations\n",
      "iter = 18\n",
      "qrConvTri converged after 640 iterations\n",
      "qrConv converged after 640 iterations\n",
      "iter = 19\n",
      "qrConvTri converged after 372 iterations\n",
      "qrConv converged after 372 iterations\n",
      "iter = 20\n",
      "qrConvTri converged after 326 iterations\n",
      "qrConv converged after 326 iterations\n",
      "iter = 21\n",
      "qrConvTri converged after 603 iterations\n",
      "qrConv converged after 603 iterations\n",
      "iter = 22\n",
      "qrConvTri converged after 584 iterations\n",
      "qrConv converged after 584 iterations\n",
      "iter = 23\n",
      "qrConvTri converged after 280 iterations\n",
      "qrConv converged after 280 iterations\n",
      "iter = 24\n",
      "qrConvTri converged after 376 iterations\n",
      "qrConv converged after 376 iterations\n",
      "iter = 25\n",
      "qrConvTri converged after 190 iterations\n",
      "qrConv converged after 190 iterations\n",
      "iter = 26\n",
      "qrConvTri converged after 796 iterations\n",
      "qrConv converged after 796 iterations\n",
      "iter = 27\n",
      "qrConvTri converged after 138 iterations\n",
      "qrConv converged after 138 iterations\n",
      "iter = 28\n",
      "qrConvTri converged after 504 iterations\n",
      "qrConv converged after 503 iterations\n",
      "iter = 29\n",
      "qrConvTri converged after 236 iterations\n",
      "qrConv converged after 236 iterations\n",
      "iter = 30\n",
      "qrConvTri converged after 467 iterations\n",
      "qrConv converged after 467 iterations\n",
      "iter = 31\n",
      "qrConvTri converged after 870 iterations\n",
      "qrConv converged after 870 iterations\n",
      "iter = 32\n",
      "qrConvTri converged after 510 iterations\n",
      "qrConv converged after 510 iterations\n",
      "iter = 33\n",
      "qrConvTri converged after 253 iterations\n",
      "qrConv converged after 253 iterations\n",
      "iter = 34\n",
      "qrConvTri converged after 543 iterations\n",
      "qrConv converged after 543 iterations\n",
      "iter = 35\n",
      "qrConvTri converged after 279 iterations\n",
      "qrConv converged after 279 iterations\n",
      "iter = 36\n",
      "qrConvTri converged after 845 iterations\n",
      "qrConv converged after 845 iterations\n",
      "iter = 37\n",
      "qrConvTri converged after 323 iterations\n",
      "qrConv converged after 323 iterations\n",
      "iter = 38\n",
      "qrConvTri converged after 841 iterations\n",
      "qrConv converged after 841 iterations\n",
      "iter = 39\n",
      "qrConvTri converged after 582 iterations\n",
      "qrConv converged after 582 iterations\n",
      "iter = 40\n",
      "qrConvTri converged after 269 iterations\n",
      "qrConv converged after 269 iterations\n",
      "iter = 41\n",
      "qrConvTri converged after 616 iterations\n",
      "qrConv converged after 616 iterations\n",
      "iter = 42\n",
      "qrConvTri converged after 797 iterations\n",
      "qrConv converged after 796 iterations\n",
      "iter = 43\n",
      "qrConvTri converged after 1011 iterations\n",
      "qrConv converged after 1011 iterations\n",
      "iter = 44\n",
      "qrConvTri converged after 490 iterations\n",
      "qrConv converged after 490 iterations\n",
      "iter = 45\n",
      "qrConvTri converged after 727 iterations\n",
      "qrConv converged after 727 iterations\n",
      "iter = 46\n",
      "qrConvTri converged after 458 iterations\n",
      "qrConv converged after 552 iterations\n",
      "iter = 47\n",
      "qrConvTri converged after 811 iterations\n",
      "qrConv converged after 811 iterations\n",
      "iter = 48\n",
      "qrConvTri converged after 773 iterations\n",
      "qrConv converged after 773 iterations\n",
      "iter = 49\n",
      "qrConvTri converged after 1296 iterations\n",
      "qrConv converged after 1296 iterations\n",
      "iter = 50\n",
      "qrConvTri converged after 944 iterations\n",
      "qrConv converged after 387 iterations\n",
      "iter = 51\n",
      "qrConvTri converged after 1342 iterations\n",
      "qrConv converged after 1342 iterations\n",
      "iter = 52\n",
      "qrConvTri converged after 1582 iterations\n",
      "iter = 53\n"
     ]
    },
    {
     "name": "stderr",
     "output_type": "stream",
     "text": [
      "┌ Warning: Convergence hasnt been reached\n",
      "└ @ Main In[21]:53\n"
     ]
    },
    {
     "name": "stdout",
     "output_type": "stream",
     "text": [
      "qrConvTri converged after 602 iterations\n",
      "qrConv converged after 958 iterations\n",
      "iter = 54\n",
      "qrConvTri converged after 809 iterations\n",
      "qrConv converged after 810 iterations\n",
      "iter = 55\n",
      "qrConvTri converged after 1105 iterations\n",
      "qrConv converged after 1104 iterations\n",
      "iter = 56\n",
      "qrConvTri converged after 1059 iterations\n",
      "qrConv converged after 1013 iterations\n",
      "iter = 57\n",
      "qrConvTri converged after 1929 iterations\n",
      "qrConv converged after 1931 iterations\n",
      "iter = 58\n",
      "qrConvTri converged after 736 iterations\n",
      "qrConv converged after 736 iterations\n",
      "iter = 59\n",
      "qrConvTri converged after 1011 iterations\n",
      "qrConv converged after 1013 iterations\n",
      "iter = 60\n",
      "qrConvTri converged after 976 iterations\n",
      "qrConv converged after 945 iterations\n",
      "iter = 61\n",
      "qrConvTri converged after 307 iterations\n",
      "qrConv converged after 307 iterations\n",
      "iter = 62\n",
      "qrConvTri converged after 1218 iterations\n",
      "qrConv converged after 1218 iterations\n",
      "iter = 63\n",
      "qrConvTri converged after 985 iterations\n",
      "qrConv converged after 1117 iterations\n",
      "iter = 64\n",
      "qrConvTri converged after 1743 iterations\n",
      "qrConv converged after 1743 iterations\n",
      "iter = 65\n",
      "qrConvTri converged after 2003 iterations\n",
      "qrConv converged after 1589 iterations\n",
      "iter = 66\n",
      "qrConvTri converged after 1209 iterations\n",
      "qrConv converged after 1619 iterations\n",
      "iter = 67\n",
      "qrConvTri converged after 2217 iterations\n",
      "qrConv converged after 2217 iterations\n",
      "iter = 68\n",
      "qrConvTri converged after 1956 iterations\n"
     ]
    },
    {
     "name": "stderr",
     "output_type": "stream",
     "text": [
      "┌ Warning: Convergence hasnt been reached\n",
      "└ @ Main In[21]:53\n"
     ]
    }
   ],
   "source": [
    "X = range(3,stop = 70)\n",
    "Tri = zeros(length(X))\n",
    "Hou = zeros(length(X))\n",
    "Mats = Matrix{Float64}[]\n",
    "for i in X\n",
    "    println(\"iter = \",i-2)\n",
    "    d = rand(Uniform(-20,20),i)\n",
    "    sd = rand(Uniform(-20,20),i)\n",
    "    A = SymTridiagonal(d,sd)\n",
    "    A = convert(Array,A)\n",
    "    push!(Mats,A)\n",
    "    Tri[i-2] = @elapsed qrConvTri(A)\n",
    "    Hou[i-2] = @elapsed qrConv(A)\n",
    "end\n"
   ]
  },
  {
   "cell_type": "code",
   "execution_count": 29,
   "metadata": {
    "scrolled": false
   },
   "outputs": [],
   "source": [
    "draw = hcat(Tri,Hou)\n",
    "\n",
    "plot(X,draw, label=[\"Givens\" \"HouseHolder\"], xlabel= \"taille de la matrice (n*n)\", ylabel=\"temps d'exécution en s\")\n",
    "savefig(\"compQR.png\")"
   ]
  },
  {
   "cell_type": "code",
   "execution_count": null,
   "metadata": {},
   "outputs": [],
   "source": []
  }
 ],
 "metadata": {
  "kernelspec": {
   "display_name": "Julia 1.6.1",
   "language": "julia",
   "name": "julia-1.6"
  },
  "language_info": {
   "file_extension": ".jl",
   "mimetype": "application/julia",
   "name": "julia",
   "version": "1.6.1"
  }
 },
 "nbformat": 4,
 "nbformat_minor": 2
}
